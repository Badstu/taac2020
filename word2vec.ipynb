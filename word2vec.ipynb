{
 "cells": [
  {
   "cell_type": "code",
   "execution_count": 1,
   "metadata": {},
   "outputs": [],
   "source": [
    "from IPython.core.interactiveshell import InteractiveShell\n",
    "InteractiveShell.ast_node_interactivity = \"all\" \n",
    "\n",
    "import data\n",
    "import lightgbm as lgb\n",
    "import numpy as np\n",
    "import os\n",
    "import sys\n",
    "import pandas as pd\n",
    "import matplotlib\n",
    "from sklearn.model_selection import train_test_split\n",
    "from sklearn.datasets import load_iris\n",
    "from sklearn.metrics import mean_squared_error, roc_auc_score, accuracy_score\n",
    "from gensim.models import word2vec\n",
    "import logging\n",
    "\n",
    "from model import lgb_model\n",
    "\n",
    "%matplotlib inline"
   ]
  },
  {
   "cell_type": "code",
   "execution_count": 2,
   "metadata": {},
   "outputs": [],
   "source": [
    "train_ad, train_click, train_user, test_ad, test_click = data.load_data()\n",
    "train_user, valid_user = train_test_split(train_user, test_size=0.33, random_state=42)\n",
    "train_record = data.get_part_click(train_click, train_user)\n",
    "valid_record = data.get_part_click(train_click, valid_user)\n",
    "\n",
    "# train_record\n",
    "train_record = pd.merge(train_record, train_ad, on=\"creative_id\")\n",
    "# valid_record\n",
    "valid_record = pd.merge(valid_record, train_ad, on=\"creative_id\")"
   ]
  },
  {
   "cell_type": "code",
   "execution_count": 3,
   "metadata": {},
   "outputs": [],
   "source": [
    "train_features, train_age, train_gender = data.split_feature_target(train_record, keep_user=True)\n",
    "valid_features, valid_age, valid_gender = data.split_feature_target(valid_record, keep_user=True)"
   ]
  },
  {
   "cell_type": "code",
   "execution_count": 4,
   "metadata": {},
   "outputs": [
    {
     "data": {
      "text/html": [
       "<div>\n",
       "<style scoped>\n",
       "    .dataframe tbody tr th:only-of-type {\n",
       "        vertical-align: middle;\n",
       "    }\n",
       "\n",
       "    .dataframe tbody tr th {\n",
       "        vertical-align: top;\n",
       "    }\n",
       "\n",
       "    .dataframe thead th {\n",
       "        text-align: right;\n",
       "    }\n",
       "</style>\n",
       "<table border=\"1\" class=\"dataframe\">\n",
       "  <thead>\n",
       "    <tr style=\"text-align: right;\">\n",
       "      <th></th>\n",
       "      <th>time</th>\n",
       "      <th>user_id</th>\n",
       "      <th>creative_id</th>\n",
       "      <th>click_times</th>\n",
       "      <th>ad_id</th>\n",
       "      <th>product_id</th>\n",
       "      <th>product_category</th>\n",
       "      <th>advertiser_id</th>\n",
       "      <th>industry</th>\n",
       "    </tr>\n",
       "  </thead>\n",
       "  <tbody>\n",
       "    <tr>\n",
       "      <th>0</th>\n",
       "      <td>6</td>\n",
       "      <td>309204</td>\n",
       "      <td>325532</td>\n",
       "      <td>1</td>\n",
       "      <td>292523</td>\n",
       "      <td>27081.0</td>\n",
       "      <td>3</td>\n",
       "      <td>32066</td>\n",
       "      <td>242.0</td>\n",
       "    </tr>\n",
       "    <tr>\n",
       "      <th>1</th>\n",
       "      <td>5</td>\n",
       "      <td>801758</td>\n",
       "      <td>325532</td>\n",
       "      <td>1</td>\n",
       "      <td>292523</td>\n",
       "      <td>27081.0</td>\n",
       "      <td>3</td>\n",
       "      <td>32066</td>\n",
       "      <td>242.0</td>\n",
       "    </tr>\n",
       "    <tr>\n",
       "      <th>2</th>\n",
       "      <td>5</td>\n",
       "      <td>126648</td>\n",
       "      <td>325532</td>\n",
       "      <td>1</td>\n",
       "      <td>292523</td>\n",
       "      <td>27081.0</td>\n",
       "      <td>3</td>\n",
       "      <td>32066</td>\n",
       "      <td>242.0</td>\n",
       "    </tr>\n",
       "    <tr>\n",
       "      <th>3</th>\n",
       "      <td>59</td>\n",
       "      <td>309204</td>\n",
       "      <td>2746730</td>\n",
       "      <td>1</td>\n",
       "      <td>2362208</td>\n",
       "      <td>NaN</td>\n",
       "      <td>18</td>\n",
       "      <td>14682</td>\n",
       "      <td>88.0</td>\n",
       "    </tr>\n",
       "    <tr>\n",
       "      <th>4</th>\n",
       "      <td>68</td>\n",
       "      <td>317233</td>\n",
       "      <td>2746730</td>\n",
       "      <td>1</td>\n",
       "      <td>2362208</td>\n",
       "      <td>NaN</td>\n",
       "      <td>18</td>\n",
       "      <td>14682</td>\n",
       "      <td>88.0</td>\n",
       "    </tr>\n",
       "  </tbody>\n",
       "</table>\n",
       "</div>"
      ],
      "text/plain": [
       "   time  user_id  creative_id  click_times    ad_id  product_id  \\\n",
       "0     6   309204       325532            1   292523     27081.0   \n",
       "1     5   801758       325532            1   292523     27081.0   \n",
       "2     5   126648       325532            1   292523     27081.0   \n",
       "3    59   309204      2746730            1  2362208         NaN   \n",
       "4    68   317233      2746730            1  2362208         NaN   \n",
       "\n",
       "   product_category  advertiser_id  industry  \n",
       "0                 3          32066     242.0  \n",
       "1                 3          32066     242.0  \n",
       "2                 3          32066     242.0  \n",
       "3                18          14682      88.0  \n",
       "4                18          14682      88.0  "
      ]
     },
     "execution_count": 4,
     "metadata": {},
     "output_type": "execute_result"
    }
   ],
   "source": [
    "train_features.head()"
   ]
  },
  {
   "cell_type": "code",
   "execution_count": 9,
   "metadata": {},
   "outputs": [],
   "source": [
    "grouped_record = train_features.groupby(\"user_id\")"
   ]
  },
  {
   "cell_type": "code",
   "execution_count": 20,
   "metadata": {},
   "outputs": [
    {
     "name": "stdout",
     "output_type": "stream",
     "text": [
      "2\n",
      "          time  user_id  creative_id  click_times    ad_id  product_id  \\\n",
      "3398990     10        2        63441            1    58788        87.0   \n",
      "18079728    11        2       155822            1   139702        80.0   \n",
      "1617395     14        2        39714            1    38066       129.0   \n",
      "3529924     17        2       609050            1   541125       129.0   \n",
      "272400      28        2        13069            1    14495      1400.0   \n",
      "1242952     28        2      1266180            1  1107111         NaN   \n",
      "2241262     28        2       441462            1   392680        87.0   \n",
      "7302729     38        2      1657530            1  1436687      1261.0   \n",
      "1861396     38        2      1696925            1  1469873         NaN   \n",
      "7291835     39        2       769749            1   680028         NaN   \n",
      "9265604     41        2      1074235            1   942883       111.0   \n",
      "4230871     42        2      1252062            1  1095314       129.0   \n",
      "6261336     42        2      1662244            1  1440744         NaN   \n",
      "1349367     42        2      1145367            1  1003786         NaN   \n",
      "3432635     44        2        96192            1    87644         NaN   \n",
      "1349368     44        2      1145367            1  1003786         NaN   \n",
      "615055      48        2      2085566            1  1801889       129.0   \n",
      "615054      49        2      2085566            1  1801889       129.0   \n",
      "2869027     49        2       157180            1   140916      1268.0   \n",
      "1861395     49        2      1696925            1  1469873         NaN   \n",
      "5310910     49        2       396652            1   354247      2031.0   \n",
      "7197050     51        2      2369339            1  2042824         NaN   \n",
      "6469295     53        2       647980            1   575249       154.0   \n",
      "17861627    53        2      2552139            1  2197677       111.0   \n",
      "8716231     53        2      2489057            1  2143842        80.0   \n",
      "3129290     53        2      2143574            1  1851077       129.0   \n",
      "13496390    55        2      2496722            1  2150246         NaN   \n",
      "6936202     59        2      2624965            1  2259448      2103.0   \n",
      "1360362     60        2      2785305            1  2394728       129.0   \n",
      "19176448    60        2      2108551            1  1821340     15872.0   \n",
      "19176451    60        2      2862407            1  2461002         NaN   \n",
      "1894585     67        2       738378            1   653169      1064.0   \n",
      "19169311    68        2      3246898            1  2793270         NaN   \n",
      "10341208    72        2      3443654            1  2964754         NaN   \n",
      "10232923    73        2      2995416            1  2576212      2637.0   \n",
      "12848365    77        2      3766271            1  3238685      1849.0   \n",
      "559771      77        2      1416518            1  1235723      2065.0   \n",
      "18278554    77        2      3765766            1  3238255      1849.0   \n",
      "10868476    78        2      3574990            1  3078081       128.0   \n",
      "10529734    85        2      2270719            1  1959296      1064.0   \n",
      "1914544     87        2        15558            2    16946       107.0   \n",
      "7649839     87        2        22013            1    22877      1323.0   \n",
      "6179100     88        2       513298            1   456635      1064.0   \n",
      "15597224    89        2      4194247            1  3598073         NaN   \n",
      "16107730    90        2       625944            1   555841     11119.0   \n",
      "\n",
      "          product_category  advertiser_id  industry  \n",
      "3398990                  2          22885     318.0  \n",
      "18079728                 2          10686     238.0  \n",
      "1617395                  2          18562       6.0  \n",
      "3529924                  2          25932       6.0  \n",
      "272400                   2            768     317.0  \n",
      "1242952                 18          34505      47.0  \n",
      "2241262                  2          22885     318.0  \n",
      "7302729                  2            918       6.0  \n",
      "1861396                 18          26006      47.0  \n",
      "7291835                 18          34503      47.0  \n",
      "9265604                  2          17284     242.0  \n",
      "4230871                  2          20033       6.0  \n",
      "6261336                 18          13732       6.0  \n",
      "1349367                 18          27843      47.0  \n",
      "3432635                 18          25260      47.0  \n",
      "1349368                 18          27843      47.0  \n",
      "615055                   2          42272       6.0  \n",
      "615054                   2          42272       6.0  \n",
      "2869027                  2           2302       5.0  \n",
      "1861395                 18          26006      47.0  \n",
      "5310910                  2          38785     238.0  \n",
      "7197050                 18          14938      36.0  \n",
      "6469295                  2          14002     319.0  \n",
      "17861627                 2          52049     242.0  \n",
      "8716231                  2          10686     238.0  \n",
      "3129290                  2          42272       6.0  \n",
      "13496390                18          29097      36.0  \n",
      "6936202                  2          52193     322.0  \n",
      "1360362                  2          42272       6.0  \n",
      "19176448                 8          45025     289.0  \n",
      "19176451                18          36700      36.0  \n",
      "1894585                  2          33664     242.0  \n",
      "19169311                18          11989      21.0  \n",
      "10341208                18          14681     207.0  \n",
      "10232923                 2          40936     250.0  \n",
      "12848365                 2          57597     317.0  \n",
      "559771                   2          25896     238.0  \n",
      "18278554                 2          57597     317.0  \n",
      "10868476                 2          16473     317.0  \n",
      "10529734                 2          38517     242.0  \n",
      "1914544                  2          17951     317.0  \n",
      "7649839                  2            818     319.0  \n",
      "6179100                  2          33664     242.0  \n",
      "15597224                18          25704     207.0  \n",
      "16107730                 8          20193     328.0  \n",
      "[63441, 155822, 39714, 609050, 13069, 1266180, 441462, 1657530, 1696925, 769749, 1074235, 1252062, 1662244, 1145367, 96192, 1145367, 2085566, 2085566, 157180, 1696925, 396652, 2369339, 647980, 2552139, 2489057, 2143574, 2496722, 2624965, 2785305, 2108551, 2862407, 738378, 3246898, 3443654, 2995416, 3766271, 1416518, 3765766, 3574990, 2270719, 15558, 22013, 513298, 4194247, 625944]\n"
     ]
    }
   ],
   "source": [
    "for user_id, record in grouped_record:\n",
    "    print(user_id)\n",
    "    record = record.sort_values(by=\"time\")\n",
    "    sentence = list(record[\"creative_id\"])\n",
    "    print(record)\n",
    "    print(sentence)\n",
    "    break"
   ]
  },
  {
   "cell_type": "code",
   "execution_count": null,
   "metadata": {},
   "outputs": [],
   "source": [
    "def word_embedding(intput_record):\n",
    "    "
   ]
  },
  {
   "cell_type": "code",
   "execution_count": 15,
   "metadata": {},
   "outputs": [],
   "source": [
    "#删掉user_id, 把age和gender当成label\n",
    "'''\n",
    "features中各列的含义\n",
    "1. time\n",
    "2. creative_id\n",
    "3. click_times\n",
    "4. ad_id\n",
    "5. product_id\n",
    "6. product_category\n",
    "7. advertiser_id\n",
    "8. industry_id\n",
    "'''\n",
    "train_features, train_age, train_gender = data.split_feature_target(train_record)\n",
    "valid_features, valid_age, valid_gender = data.split_feature_target(valid_record)\n",
    "\n",
    "train_features = train_features.values\n",
    "train_age = train_age.values - 1\n",
    "train_gender = train_gender.values - 1\n",
    "\n",
    "valid_features = valid_features.values\n",
    "valid_age = valid_age.values - 1\n",
    "valid_gender = valid_gender.values - 1"
   ]
  },
  {
   "cell_type": "code",
   "execution_count": 16,
   "metadata": {},
   "outputs": [
    {
     "data": {
      "text/plain": [
       "array([[6.000000e+00, 3.255320e+05, 1.000000e+00, 2.925230e+05,\n",
       "        2.708100e+04, 3.000000e+00, 3.206600e+04, 2.420000e+02],\n",
       "       [5.000000e+00, 3.255320e+05, 1.000000e+00, 2.925230e+05,\n",
       "        2.708100e+04, 3.000000e+00, 3.206600e+04, 2.420000e+02],\n",
       "       [5.000000e+00, 3.255320e+05, 1.000000e+00, 2.925230e+05,\n",
       "        2.708100e+04, 3.000000e+00, 3.206600e+04, 2.420000e+02],\n",
       "       [5.900000e+01, 2.746730e+06, 1.000000e+00, 2.362208e+06,\n",
       "                 nan, 1.800000e+01, 1.468200e+04, 8.800000e+01],\n",
       "       [6.800000e+01, 2.746730e+06, 1.000000e+00, 2.362208e+06,\n",
       "                 nan, 1.800000e+01, 1.468200e+04, 8.800000e+01]])"
      ]
     },
     "execution_count": 16,
     "metadata": {},
     "output_type": "execute_result"
    }
   ],
   "source": [
    "train_features[:5]"
   ]
  },
  {
   "cell_type": "code",
   "execution_count": null,
   "metadata": {},
   "outputs": [],
   "source": []
  },
  {
   "cell_type": "code",
   "execution_count": 21,
   "metadata": {},
   "outputs": [],
   "source": [
    "logging.basicConfig(format='%(asctime)s : %(levelname)s : %(message)s', level=logging.INFO)\n",
    "\n",
    "# 引入数据集\n",
    "raw_sentences = [\"the quick brown fox jumps over the lazy dogs\",\"yoyoyo you go home now to sleep\"]\n",
    "\n",
    "# 切分词汇\n",
    "sentences= [s.split() for s in raw_sentences]"
   ]
  },
  {
   "cell_type": "code",
   "execution_count": 22,
   "metadata": {},
   "outputs": [
    {
     "data": {
      "text/plain": [
       "[['the', 'quick', 'brown', 'fox', 'jumps', 'over', 'the', 'lazy', 'dogs'],\n",
       " ['yoyoyo', 'you', 'go', 'home', 'now', 'to', 'sleep']]"
      ]
     },
     "execution_count": 22,
     "metadata": {},
     "output_type": "execute_result"
    }
   ],
   "source": [
    "sentences"
   ]
  },
  {
   "cell_type": "code",
   "execution_count": 23,
   "metadata": {},
   "outputs": [
    {
     "name": "stderr",
     "output_type": "stream",
     "text": [
      "2020-05-30 15:16:37,285 : INFO : collecting all words and their counts\n",
      "2020-05-30 15:16:37,286 : INFO : PROGRESS: at sentence #0, processed 0 words, keeping 0 word types\n",
      "2020-05-30 15:16:37,286 : INFO : collected 15 word types from a corpus of 16 raw words and 2 sentences\n",
      "2020-05-30 15:16:37,287 : INFO : Loading a fresh vocabulary\n",
      "2020-05-30 15:16:37,287 : INFO : effective_min_count=1 retains 15 unique words (100% of original 15, drops 0)\n",
      "2020-05-30 15:16:37,288 : INFO : effective_min_count=1 leaves 16 word corpus (100% of original 16, drops 0)\n",
      "2020-05-30 15:16:37,288 : INFO : deleting the raw counts dictionary of 15 items\n",
      "2020-05-30 15:16:37,289 : INFO : sample=0.001 downsamples 15 most-common words\n",
      "2020-05-30 15:16:37,289 : INFO : downsampling leaves estimated 2 word corpus (13.7% of prior 16)\n",
      "2020-05-30 15:16:37,290 : INFO : estimated required memory for 15 words and 100 dimensions: 19500 bytes\n",
      "2020-05-30 15:16:37,290 : INFO : resetting layer weights\n",
      "2020-05-30 15:16:37,293 : INFO : training model with 3 workers on 15 vocabulary and 100 features, using sg=0 hs=0 sample=0.001 negative=5 window=5\n",
      "2020-05-30 15:16:37,296 : INFO : worker thread finished; awaiting finish of 2 more threads\n",
      "2020-05-30 15:16:37,324 : INFO : worker thread finished; awaiting finish of 1 more threads\n",
      "2020-05-30 15:16:37,325 : INFO : worker thread finished; awaiting finish of 0 more threads\n",
      "2020-05-30 15:16:37,326 : INFO : EPOCH - 1 : training on 16 raw words (2 effective words) took 0.0s, 67 effective words/s\n",
      "2020-05-30 15:16:37,331 : INFO : worker thread finished; awaiting finish of 2 more threads\n",
      "2020-05-30 15:16:37,332 : INFO : worker thread finished; awaiting finish of 1 more threads\n",
      "2020-05-30 15:16:37,333 : INFO : worker thread finished; awaiting finish of 0 more threads\n",
      "2020-05-30 15:16:37,333 : INFO : EPOCH - 2 : training on 16 raw words (3 effective words) took 0.0s, 1007 effective words/s\n",
      "2020-05-30 15:16:37,344 : INFO : worker thread finished; awaiting finish of 2 more threads\n",
      "2020-05-30 15:16:37,345 : INFO : worker thread finished; awaiting finish of 1 more threads\n",
      "2020-05-30 15:16:37,346 : INFO : worker thread finished; awaiting finish of 0 more threads\n",
      "2020-05-30 15:16:37,346 : INFO : EPOCH - 3 : training on 16 raw words (1 effective words) took 0.0s, 349 effective words/s\n",
      "2020-05-30 15:16:37,348 : INFO : worker thread finished; awaiting finish of 2 more threads\n",
      "2020-05-30 15:16:37,348 : INFO : worker thread finished; awaiting finish of 1 more threads\n",
      "2020-05-30 15:16:37,349 : INFO : worker thread finished; awaiting finish of 0 more threads\n",
      "2020-05-30 15:16:37,349 : INFO : EPOCH - 4 : training on 16 raw words (2 effective words) took 0.0s, 1510 effective words/s\n",
      "2020-05-30 15:16:37,352 : INFO : worker thread finished; awaiting finish of 2 more threads\n",
      "2020-05-30 15:16:37,353 : INFO : worker thread finished; awaiting finish of 1 more threads\n",
      "2020-05-30 15:16:37,353 : INFO : worker thread finished; awaiting finish of 0 more threads\n",
      "2020-05-30 15:16:37,354 : INFO : EPOCH - 5 : training on 16 raw words (2 effective words) took 0.0s, 824 effective words/s\n",
      "2020-05-30 15:16:37,354 : INFO : training on a 80 raw words (10 effective words) took 0.1s, 167 effective words/s\n",
      "2020-05-30 15:16:37,355 : WARNING : under 10 jobs per worker: consider setting a smaller `batch_words' for smoother alpha decay\n"
     ]
    }
   ],
   "source": [
    "# 构建模型\n",
    "model = word2vec.Word2Vec(sentences, min_count=1)"
   ]
  },
  {
   "cell_type": "code",
   "execution_count": 20,
   "metadata": {},
   "outputs": [
    {
     "name": "stderr",
     "output_type": "stream",
     "text": [
      "E:\\Anaconda3\\lib\\site-packages\\ipykernel_launcher.py:1: DeprecationWarning: Call to deprecated `__getitem__` (Method will be removed in 4.0.0, use self.wv.__getitem__() instead).\n",
      "  \"\"\"Entry point for launching an IPython kernel.\n"
     ]
    },
    {
     "data": {
      "text/plain": [
       "-0.004990018"
      ]
     },
     "execution_count": 20,
     "metadata": {},
     "output_type": "execute_result"
    },
    {
     "data": {
      "text/plain": [
       "0.0048909504"
      ]
     },
     "execution_count": 20,
     "metadata": {},
     "output_type": "execute_result"
    }
   ],
   "source": [
    "a = model['dogs']\n",
    "a.min()\n",
    "a.max()"
   ]
  },
  {
   "cell_type": "code",
   "execution_count": null,
   "metadata": {},
   "outputs": [],
   "source": []
  }
 ],
 "metadata": {
  "kernelspec": {
   "display_name": "Python 3",
   "language": "python",
   "name": "python3"
  },
  "language_info": {
   "codemirror_mode": {
    "name": "ipython",
    "version": 3
   },
   "file_extension": ".py",
   "mimetype": "text/x-python",
   "name": "python",
   "nbconvert_exporter": "python",
   "pygments_lexer": "ipython3",
   "version": "3.7.6"
  }
 },
 "nbformat": 4,
 "nbformat_minor": 4
}
