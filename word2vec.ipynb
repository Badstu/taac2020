{
 "cells": [
  {
   "cell_type": "code",
   "execution_count": 1,
   "metadata": {},
   "outputs": [],
   "source": [
    "from IPython.core.interactiveshell import InteractiveShell\n",
    "InteractiveShell.ast_node_interactivity = \"all\" \n",
    "\n",
    "import data\n",
    "import lightgbm as lgb\n",
    "import numpy as np\n",
    "import os\n",
    "import sys\n",
    "import pandas as pd\n",
    "import matplotlib\n",
    "from sklearn.model_selection import train_test_split\n",
    "from sklearn.datasets import load_iris\n",
    "from sklearn.metrics import mean_squared_error, roc_auc_score, accuracy_score\n",
    "from gensim.models import word2vec\n",
    "import logging\n",
    "\n",
    "from model import lgb_model\n",
    "\n",
    "%matplotlib inline\n",
    "logging.basicConfig(format='%(asctime)s : %(levelname)s : %(message)s', level=logging.INFO)"
   ]
  },
  {
   "cell_type": "markdown",
   "metadata": {},
   "source": [
    "# 把train和test click拼接到一起，进行词向量训练"
   ]
  },
  {
   "cell_type": "code",
   "execution_count": 2,
   "metadata": {},
   "outputs": [],
   "source": [
    "train_ad, train_click, train_user, test_ad, test_click = data.load_data()"
   ]
  },
  {
   "cell_type": "code",
   "execution_count": 11,
   "metadata": {},
   "outputs": [],
   "source": [
    "train_record = pd.merge(train_click, train_ad, on=\"creative_id\")\n",
    "test_record = pd.merge(test_click, test_ad, on=\"creative_id\")"
   ]
  },
  {
   "cell_type": "code",
   "execution_count": 12,
   "metadata": {},
   "outputs": [],
   "source": [
    "all_record = pd.concat([train_record, test_record])"
   ]
  },
  {
   "cell_type": "code",
   "execution_count": 15,
   "metadata": {},
   "outputs": [],
   "source": [
    "grouped_record = all_record.groupby(\"user_id\")"
   ]
  },
  {
   "cell_type": "code",
   "execution_count": 16,
   "metadata": {},
   "outputs": [],
   "source": [
    "class MySentences(object):\n",
    "    def __init__(self, grouped_record, column_name):\n",
    "        self.grouped_record = grouped_record\n",
    "        self.column_name = column_name\n",
    "        \n",
    "    def __iter__(self):\n",
    "        for user_id, record in grouped_record:\n",
    "            record = record.sort_values(by=\"time\")\n",
    "            if self.column_name == \"product_id\" or self.column_name == \"industry\":\n",
    "                p_id = record[self.column_name]\n",
    "                p_id = p_id[~pd.isnull(p_id)].astype(\"int\")\n",
    "                sentence = list(map(str, list(p_id)))\n",
    "            else:\n",
    "                sentence = list(map(str, list(record[self.column_name])))\n",
    "            yield sentence"
   ]
  },
  {
   "cell_type": "code",
   "execution_count": null,
   "metadata": {},
   "outputs": [],
   "source": [
    "creative_sens = MySentences(grouped_record, \"creative_id\")\n",
    "ad_sens = MySentences(grouped_record, \"ad_id\")\n",
    "product_sens = MySentences(grouped_record, \"product_id\")\n",
    "advertiser_sens = MySentences(grouped_record, \"advertiser_id\")\n",
    "industry_sens = MySentences(grouped_record, \"industry\")"
   ]
  },
  {
   "cell_type": "code",
   "execution_count": null,
   "metadata": {},
   "outputs": [],
   "source": [
    "creative_model = word2vec.Word2Vec(creative_sens, min_count=1, size=200, workers=4)\n",
    "creative_model.wv.save_word2vec_format(\"checkpoints/creative_model.w2v\", binary=True)"
   ]
  },
  {
   "cell_type": "code",
   "execution_count": null,
   "metadata": {},
   "outputs": [],
   "source": [
    "ad_model = word2vec.Word2Vec(ad_sens, min_count=1, size=200, workers=4)\n",
    "ad_model.wv.save_word2vec_format(\"checkpoints/ad_model.w2v\", binary=True)"
   ]
  },
  {
   "cell_type": "code",
   "execution_count": null,
   "metadata": {},
   "outputs": [],
   "source": [
    "product_model = word2vec.Word2Vec(product_sens, min_count=1, size=200, workers=4)\n",
    "product_model.wv.save_word2vec_format(\"checkpoints/product_model.w2v\", binary=True)"
   ]
  },
  {
   "cell_type": "code",
   "execution_count": null,
   "metadata": {},
   "outputs": [],
   "source": [
    "advertiser_model = word2vec.Word2Vec(advertiser_sens, min_count=1, size=100, workers=4)\n",
    "advertiser_model.wv.save_word2vec_format(\"checkpoints/advertiser_model.w2v\", binary=True)"
   ]
  },
  {
   "cell_type": "code",
   "execution_count": null,
   "metadata": {},
   "outputs": [],
   "source": [
    "industry_sens = MySentences(grouped_record, \"industry\")\n",
    "industry_model = word2vec.Word2Vec(industry_sens, min_count=1, size=100, workers=4)\n",
    "industry_model.wv.save_word2vec_format(\"checkpoints/industry_model.w2v\", binary=True)"
   ]
  },
  {
   "cell_type": "code",
   "execution_count": null,
   "metadata": {},
   "outputs": [],
   "source": []
  },
  {
   "cell_type": "code",
   "execution_count": null,
   "metadata": {},
   "outputs": [],
   "source": []
  },
  {
   "cell_type": "code",
   "execution_count": null,
   "metadata": {},
   "outputs": [],
   "source": [
    "train_ad, train_click, train_user, test_ad, test_click = data.load_data()\n",
    "train_user, valid_user = train_test_split(train_user, test_size=0.33, random_state=42)\n",
    "train_record = data.get_part_click(train_click, train_user)\n",
    "valid_record = data.get_part_click(train_click, valid_user)\n",
    "\n",
    "# train_record\n",
    "train_record = pd.merge(train_record, train_ad, on=\"creative_id\")\n",
    "# valid_record\n",
    "valid_record = pd.merge(valid_record, train_ad, on=\"creative_id\")"
   ]
  },
  {
   "cell_type": "code",
   "execution_count": null,
   "metadata": {},
   "outputs": [],
   "source": [
    "train_features, train_age, train_gender = data.split_feature_target(train_record, keep_user=True)\n",
    "valid_features, valid_age, valid_gender = data.split_feature_target(valid_record, keep_user=True)"
   ]
  },
  {
   "cell_type": "code",
   "execution_count": null,
   "metadata": {},
   "outputs": [],
   "source": [
    "train_features.head()"
   ]
  },
  {
   "cell_type": "code",
   "execution_count": null,
   "metadata": {},
   "outputs": [],
   "source": [
    "grouped_record = train_features.groupby(\"user_id\")"
   ]
  },
  {
   "cell_type": "code",
   "execution_count": null,
   "metadata": {},
   "outputs": [],
   "source": [
    "class MySentences(object):\n",
    "    def __init__(self, grouped_record, column_name):\n",
    "        self.grouped_record = grouped_record\n",
    "        self.column_name = column_name\n",
    "        \n",
    "    def __iter__(self):\n",
    "        for user_id, record in grouped_record:\n",
    "            record = record.sort_values(by=\"time\")\n",
    "            if self.column_name == \"product_id\" or self.column_name == \"industry\":\n",
    "                p_id = record[self.column_name]\n",
    "                p_id = p_id[~pd.isnull(p_id)].astype(\"int\")\n",
    "                sentence = list(map(str, list(p_id)))\n",
    "            else:\n",
    "                sentence = list(map(str, list(record[self.column_name])))\n",
    "            yield sentence"
   ]
  },
  {
   "cell_type": "code",
   "execution_count": null,
   "metadata": {},
   "outputs": [],
   "source": [
    "creative_sens = MySentences(grouped_record, \"creative_id\")\n",
    "ad_sens = MySentences(grouped_record, \"ad_id\")\n",
    "product_sens = MySentences(grouped_record, \"product_id\")\n",
    "advertiser_sens = MySentences(grouped_record, \"advertiser_id\")\n",
    "industry_sens = MySentences(grouped_record, \"industry\")"
   ]
  },
  {
   "cell_type": "code",
   "execution_count": null,
   "metadata": {},
   "outputs": [],
   "source": [
    "creative_model = word2vec.Word2Vec(creative_sens, min_count=1, size=200, workers=4)\n",
    "creative_model.wv.save_word2vec_format(\"checkpoints/creative_model.w2v\", binary=True)"
   ]
  },
  {
   "cell_type": "code",
   "execution_count": null,
   "metadata": {},
   "outputs": [],
   "source": [
    "ad_model = word2vec.Word2Vec(ad_sens, min_count=1, size=200, workers=4)\n",
    "ad_model.wv.save_word2vec_format(\"checkpoints/ad_model.w2v\", binary=True)"
   ]
  },
  {
   "cell_type": "code",
   "execution_count": null,
   "metadata": {},
   "outputs": [],
   "source": [
    "product_model = word2vec.Word2Vec(product_sens, min_count=1, size=200, workers=4)\n",
    "product_model.wv.save_word2vec_format(\"checkpoints/product_model.w2v\", binary=True)"
   ]
  },
  {
   "cell_type": "code",
   "execution_count": null,
   "metadata": {},
   "outputs": [],
   "source": [
    "advertiser_model = word2vec.Word2Vec(advertiser_sens, min_count=1, size=100, workers=4)\n",
    "advertiser_model.wv.save_word2vec_format(\"checkpoints/advertiser_model.w2v\", binary=True)"
   ]
  },
  {
   "cell_type": "code",
   "execution_count": null,
   "metadata": {},
   "outputs": [],
   "source": [
    "industry_sens = MySentences(grouped_record, \"industry\")\n",
    "industry_model = word2vec.Word2Vec(industry_sens, min_count=1, size=100, workers=4)\n",
    "industry_model.wv.save_word2vec_format(\"checkpoints/industry_model.w2v\", binary=True)"
   ]
  },
  {
   "cell_type": "code",
   "execution_count": null,
   "metadata": {},
   "outputs": [],
   "source": [
    "industry_model.wv.save_word2vec_format(\"checkpoints/industry_model.w2v\", binary=True)"
   ]
  },
  {
   "cell_type": "code",
   "execution_count": null,
   "metadata": {},
   "outputs": [],
   "source": []
  },
  {
   "cell_type": "code",
   "execution_count": null,
   "metadata": {},
   "outputs": [],
   "source": [
    "for user_id, record in grouped_record:\n",
    "    print(user_id)\n",
    "    record = record.sort_values(by=\"time\")\n",
    "    sentence = list(record[\"creative_id\"])\n",
    "    print(record)\n",
    "    print(sentence)\n",
    "    break"
   ]
  },
  {
   "cell_type": "code",
   "execution_count": null,
   "metadata": {},
   "outputs": [],
   "source": [
    "#删掉user_id, 把age和gender当成label\n",
    "'''\n",
    "features中各列的含义\n",
    "1. time\n",
    "2. creative_id\n",
    "3. click_times\n",
    "4. ad_id\n",
    "5. product_id\n",
    "6. product_category\n",
    "7. advertiser_id\n",
    "8. industry_id\n",
    "'''\n",
    "train_features, train_age, train_gender = data.split_feature_target(train_record)\n",
    "valid_features, valid_age, valid_gender = data.split_feature_target(valid_record)\n",
    "\n",
    "train_features = train_features.values\n",
    "train_age = train_age.values - 1\n",
    "train_gender = train_gender.values - 1\n",
    "\n",
    "valid_features = valid_features.values\n",
    "valid_age = valid_age.values - 1\n",
    "valid_gender = valid_gender.values - 1"
   ]
  },
  {
   "cell_type": "code",
   "execution_count": null,
   "metadata": {},
   "outputs": [],
   "source": [
    "train_features[:5]"
   ]
  },
  {
   "cell_type": "code",
   "execution_count": null,
   "metadata": {},
   "outputs": [],
   "source": []
  },
  {
   "cell_type": "code",
   "execution_count": null,
   "metadata": {},
   "outputs": [],
   "source": [
    "logging.basicConfig(format='%(asctime)s : %(levelname)s : %(message)s', level=logging.INFO)\n",
    "\n",
    "# 引入数据集\n",
    "raw_sentences = [\"the quick brown fox jumps over the lazy dogs\",\"yoyoyo you go home now to sleep\"]\n",
    "\n",
    "# 切分词汇\n",
    "sentences= [s.split() for s in raw_sentences]"
   ]
  },
  {
   "cell_type": "code",
   "execution_count": null,
   "metadata": {},
   "outputs": [],
   "source": [
    "sentences"
   ]
  },
  {
   "cell_type": "code",
   "execution_count": null,
   "metadata": {},
   "outputs": [],
   "source": [
    "# 构建模型\n",
    "model = word2vec.Word2Vec(sentences, min_count=1)"
   ]
  },
  {
   "cell_type": "code",
   "execution_count": null,
   "metadata": {},
   "outputs": [],
   "source": [
    "a = model['dogs']\n",
    "a.min()\n",
    "a.max()"
   ]
  },
  {
   "cell_type": "code",
   "execution_count": null,
   "metadata": {},
   "outputs": [],
   "source": []
  }
 ],
 "metadata": {
  "kernelspec": {
   "display_name": "Python 3",
   "language": "python",
   "name": "python3"
  },
  "language_info": {
   "codemirror_mode": {
    "name": "ipython",
    "version": 3
   },
   "file_extension": ".py",
   "mimetype": "text/x-python",
   "name": "python",
   "nbconvert_exporter": "python",
   "pygments_lexer": "ipython3",
   "version": "3.7.4"
  }
 },
 "nbformat": 4,
 "nbformat_minor": 4
}
