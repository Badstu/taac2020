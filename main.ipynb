{
 "cells": [
  {
   "cell_type": "code",
   "execution_count": 6,
   "metadata": {},
   "outputs": [],
   "source": [
    "from IPython.core.interactiveshell import InteractiveShell\n",
    "InteractiveShell.ast_node_interactivity = \"all\" \n",
    "\n",
    "import data\n",
    "import lightgbm as lgb\n",
    "import numpy as np\n",
    "import os\n",
    "import sys\n",
    "import pandas as pd\n",
    "import matplotlib\n",
    "from sklearn.model_selection import train_test_split\n",
    "from sklearn.datasets import load_iris\n",
    "from sklearn.metrics import mean_squared_error, roc_auc_score, accuracy_score\n",
    "from gensim.models import word2vec, keyedvectors\n",
    "import logging\n",
    "\n",
    "from model import lgb_model\n",
    "\n",
    "%matplotlib inline\n",
    "logging.basicConfig(format='%(asctime)s : %(levelname)s : %(message)s', level=logging.INFO)"
   ]
  },
  {
   "cell_type": "code",
   "execution_count": null,
   "metadata": {},
   "outputs": [
    {
     "name": "stderr",
     "output_type": "stream",
     "text": [
      "2020-06-02 05:46:01,758 : INFO : loading projection weights from checkpoints/creative_model.w2v\n"
     ]
    }
   ],
   "source": [
    "creative_model = keyedvectors.KeyedVectors.load_word2vec_format(\"checkpoints/creative_model.w2v\", binary=True)"
   ]
  },
  {
   "cell_type": "code",
   "execution_count": null,
   "metadata": {},
   "outputs": [],
   "source": [
    "ad_model = keyedvectors.KeyedVectors.load_word2vec_format(\"checkpoints/ad_model.w2v\", binary=True)\n",
    "product_model = keyedvectors.KeyedVectors.load_word2vec_format(\"checkpoints/product_model.w2v\", binary=True)\n",
    "advertiser_model = keyedvectors.KeyedVectors.load_word2vec_format(\"checkpoints/advertiser_model.w2v\", binary=True)\n",
    "industry_model = keyedvectors.KeyedVectors.load_word2vec_format(\"checkpoints/industry_model.w2v\", binary=True)"
   ]
  },
  {
   "cell_type": "code",
   "execution_count": null,
   "metadata": {},
   "outputs": [],
   "source": [
    "train_ad, train_click, train_user, test_ad, test_click = data.load_data()\n",
    "train_user, valid_user = train_test_split(train_user, test_size=0.33, random_state=42)\n",
    "train_record = data.get_part_click(train_click, train_user)\n",
    "valid_record = data.get_part_click(train_click, valid_user)\n",
    "\n",
    "# train_record\n",
    "train_record = pd.merge(train_record, train_ad, on=\"creative_id\")\n",
    "# valid_record\n",
    "valid_record = pd.merge(valid_record, train_ad, on=\"creative_id\")"
   ]
  },
  {
   "cell_type": "code",
   "execution_count": null,
   "metadata": {},
   "outputs": [],
   "source": [
    "train_features, train_age, train_gender = data.split_feature_target(train_record, keep_user=True)\n",
    "valid_features, valid_age, valid_gender = data.split_feature_target(train_record, keep_user=True)"
   ]
  },
  {
   "cell_type": "code",
   "execution_count": null,
   "metadata": {},
   "outputs": [],
   "source": [
    "# x = train_features[\"product_id\"][:5].values[0]\n",
    "# a = np.zeros(100, ) if pd.isnull(x) else product_model[str(int(x))]"
   ]
  },
  {
   "cell_type": "code",
   "execution_count": null,
   "metadata": {},
   "outputs": [],
   "source": [
    "train_features = train_features[:100]\n",
    "train_features"
   ]
  },
  {
   "cell_type": "code",
   "execution_count": null,
   "metadata": {},
   "outputs": [],
   "source": [
    "column_names = [\"creative_id\", \"ad_id\", \"product_id\", \"advertiser_id\", \"industry\"]\n",
    "w2v_models = [creative_model, ad_model, product_model, advertiser_model, industry_model]\n",
    "\n",
    "def transform_dataframe(train_features, column_names, w2v_models):\n",
    "    for column_name, w2v_model in zip(column_names, w2v_models):\n",
    "        print(column_name, \"START\")\n",
    "        if column_name == \"industry\":\n",
    "            embedding_df = train_features[column_name].apply(lambda x: np.zeros(100, ) if pd.isnull(x) else w2v_model[str(int(x))]).apply(pd.Series)\n",
    "        elif column_name == \"product_id\":\n",
    "            embedding_df = train_features[column_name].apply(lambda x: np.zeros(200, ) if pd.isnull(x) else w2v_model[str(int(x))]).apply(pd.Series)\n",
    "        else:\n",
    "            embedding_df = train_features[column_name].apply(lambda x: w2v_model[str(x)]).apply(pd.Series)\n",
    "        train_features = pd.concat([train_features, embedding_df], axis=1).drop(column_name, axis=1)\n",
    "        print(column_name, \"FINISH\")\n",
    "    train_features.to_csv(\"main_features.csv\", index=False)\n",
    "    print(\"FINISH save csv!\")"
   ]
  },
  {
   "cell_type": "code",
   "execution_count": null,
   "metadata": {},
   "outputs": [],
   "source": []
  },
  {
   "cell_type": "code",
   "execution_count": null,
   "metadata": {},
   "outputs": [],
   "source": [
    "train_features = train_features.values\n",
    "train_age = train_age.values - 1\n",
    "train_gender = train_gender.values - 1\n",
    "\n",
    "valid_features = valid_features.values\n",
    "valid_age = valid_age.values - 1\n",
    "valid_gender = valid_gender.values - 1"
   ]
  },
  {
   "cell_type": "code",
   "execution_count": null,
   "metadata": {},
   "outputs": [],
   "source": [
    "lgb_traindata_gender = lgb.Dataset(train_features, train_gender)\n",
    "lgb_traindata_age = lgb.Dataset(train_features, train_age)\n",
    "\n",
    "lgb_valdata_gender = lgb.Dataset(valid_features, valid_gender, reference=lgb_traindata_gender)\n",
    "lgb_valdata_age = lgb.Dataset(valid_features, valid_age, reference=lgb_traindata_age)"
   ]
  },
  {
   "cell_type": "markdown",
   "metadata": {},
   "source": [
    "# 性别模型的预测"
   ]
  },
  {
   "cell_type": "code",
   "execution_count": null,
   "metadata": {},
   "outputs": [],
   "source": [
    "gender_model = lgb_model(model_kind=\"gender\")\n",
    "gender_model.train(lgb_traindata_gender, lgb_valdata_gender)\n",
    "gender_model.save_model()"
   ]
  },
  {
   "cell_type": "code",
   "execution_count": null,
   "metadata": {},
   "outputs": [],
   "source": [
    "test_record = pd.merge(test_click, test_ad, on=\"creative_id\")"
   ]
  },
  {
   "cell_type": "code",
   "execution_count": null,
   "metadata": {},
   "outputs": [],
   "source": [
    "test_features = test_record.iloc[:, [0, 2, 3, 4, 5, 6, 7, 8]]\n",
    "test_features = test_features.values"
   ]
  },
  {
   "cell_type": "code",
   "execution_count": null,
   "metadata": {},
   "outputs": [],
   "source": [
    "test_pred = gender_model.predict(test_features)"
   ]
  },
  {
   "cell_type": "code",
   "execution_count": null,
   "metadata": {},
   "outputs": [],
   "source": [
    "test_pred"
   ]
  },
  {
   "cell_type": "code",
   "execution_count": null,
   "metadata": {},
   "outputs": [],
   "source": []
  }
 ],
 "metadata": {
  "kernelspec": {
   "display_name": "Python 3",
   "language": "python",
   "name": "python3"
  },
  "language_info": {
   "codemirror_mode": {
    "name": "ipython",
    "version": 3
   },
   "file_extension": ".py",
   "mimetype": "text/x-python",
   "name": "python",
   "nbconvert_exporter": "python",
   "pygments_lexer": "ipython3",
   "version": "3.7.4"
  }
 },
 "nbformat": 4,
 "nbformat_minor": 4
}
