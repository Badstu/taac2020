{
 "cells": [
  {
   "cell_type": "code",
   "execution_count": 3,
   "metadata": {},
   "outputs": [],
   "source": [
    "from IPython.core.interactiveshell import InteractiveShell\n",
    "InteractiveShell.ast_node_interactivity = \"all\" \n",
    "\n",
    "import data\n",
    "import lightgbm as lgb\n",
    "import numpy as np\n",
    "import os\n",
    "import sys\n",
    "import pandas as pd\n",
    "import matplotlib\n",
    "from sklearn.model_selection import train_test_split\n",
    "from sklearn.datasets import load_iris\n",
    "from sklearn.metrics import mean_squared_error, roc_auc_score, accuracy_score\n",
    "\n",
    "from model import MODEL\n",
    "\n",
    "%matplotlib inline"
   ]
  },
  {
   "cell_type": "code",
   "execution_count": 4,
   "metadata": {},
   "outputs": [],
   "source": [
    "train_ad, train_click, train_user, test_ad, test_click = data.get_data()\n",
    "train_user, valid_user = train_test_split(train_user, test_size=0.33, random_state=42)\n",
    "train_record = data.get_part_click(train_click, train_user)\n",
    "valid_record = data.get_part_click(train_click, valid_user)\n",
    "\n",
    "# train_record\n",
    "train_record = pd.merge(train_record, train_ad, on=\"creative_id\")\n",
    "# valid_record\n",
    "valid_record = pd.merge(valid_record, train_ad, on=\"creative_id\")"
   ]
  },
  {
   "cell_type": "code",
   "execution_count": 5,
   "metadata": {},
   "outputs": [],
   "source": [
    "train_features, train_age, train_gender = data.split_feature_target(train_record)\n",
    "valid_features, valid_age, valid_gender = data.split_feature_target(train_record)\n",
    "\n",
    "train_features = train_features.values\n",
    "train_age = train_age.values - 1\n",
    "train_gender = train_gender.values - 1\n",
    "\n",
    "valid_features = valid_features.values\n",
    "valid_age = valid_age.values - 1\n",
    "valid_gender = valid_gender.values - 1"
   ]
  },
  {
   "cell_type": "code",
   "execution_count": 6,
   "metadata": {},
   "outputs": [],
   "source": [
    "lgb_traindata_gender = lgb.Dataset(train_features, train_gender)\n",
    "lgb_traindata_age = lgb.Dataset(train_features, train_age)\n",
    "\n",
    "lgb_valdata_gender = lgb.Dataset(valid_features, valid_gender, reference=lgb_traindata_gender)\n",
    "lgb_valdata_age = lgb.Dataset(valid_features, valid_age, reference=lgb_traindata_age)"
   ]
  },
  {
   "cell_type": "code",
   "execution_count": 8,
   "metadata": {
    "collapsed": true,
    "jupyter": {
     "outputs_hidden": true
    }
   },
   "outputs": [
    {
     "name": "stderr",
     "output_type": "stream",
     "text": [
      "/home/yangshanghui/anaconda3/envs/taac/lib/python3.7/site-packages/lightgbm/basic.py:1295: UserWarning: categorical_feature in Dataset is overridden.\n",
      "New categorical_feature is [1, 3, 4, 5, 6, 7]\n",
      "  'New categorical_feature is {}'.format(sorted(list(categorical_feature))))\n"
     ]
    },
    {
     "name": "stdout",
     "output_type": "stream",
     "text": [
      "[1]\tvalid_0's binary_logloss: 0.611592\tvalid_0's auc: 0.697599\n",
      "Training until validation scores don't improve for 10 rounds\n",
      "[2]\tvalid_0's binary_logloss: 0.600938\tvalid_0's auc: 0.708567\n",
      "[3]\tvalid_0's binary_logloss: 0.592201\tvalid_0's auc: 0.712971\n",
      "[4]\tvalid_0's binary_logloss: 0.584996\tvalid_0's auc: 0.714646\n",
      "[5]\tvalid_0's binary_logloss: 0.57863\tvalid_0's auc: 0.717341\n",
      "[6]\tvalid_0's binary_logloss: 0.573297\tvalid_0's auc: 0.721578\n",
      "[7]\tvalid_0's binary_logloss: 0.568651\tvalid_0's auc: 0.723846\n",
      "[8]\tvalid_0's binary_logloss: 0.564491\tvalid_0's auc: 0.72479\n",
      "[9]\tvalid_0's binary_logloss: 0.561588\tvalid_0's auc: 0.725633\n",
      "[10]\tvalid_0's binary_logloss: 0.558431\tvalid_0's auc: 0.726099\n",
      "[11]\tvalid_0's binary_logloss: 0.556082\tvalid_0's auc: 0.727152\n",
      "[12]\tvalid_0's binary_logloss: 0.553333\tvalid_0's auc: 0.728807\n",
      "[13]\tvalid_0's binary_logloss: 0.551086\tvalid_0's auc: 0.729338\n",
      "[14]\tvalid_0's binary_logloss: 0.548917\tvalid_0's auc: 0.730484\n",
      "[15]\tvalid_0's binary_logloss: 0.547002\tvalid_0's auc: 0.731435\n",
      "[16]\tvalid_0's binary_logloss: 0.545364\tvalid_0's auc: 0.732054\n",
      "[17]\tvalid_0's binary_logloss: 0.543885\tvalid_0's auc: 0.732673\n",
      "[18]\tvalid_0's binary_logloss: 0.542407\tvalid_0's auc: 0.733633\n",
      "[19]\tvalid_0's binary_logloss: 0.541125\tvalid_0's auc: 0.734306\n",
      "[20]\tvalid_0's binary_logloss: 0.540102\tvalid_0's auc: 0.734481\n",
      "[21]\tvalid_0's binary_logloss: 0.539144\tvalid_0's auc: 0.735316\n",
      "[22]\tvalid_0's binary_logloss: 0.538085\tvalid_0's auc: 0.736081\n",
      "[23]\tvalid_0's binary_logloss: 0.537215\tvalid_0's auc: 0.736309\n",
      "[24]\tvalid_0's binary_logloss: 0.536351\tvalid_0's auc: 0.737027\n",
      "[25]\tvalid_0's binary_logloss: 0.535537\tvalid_0's auc: 0.737511\n",
      "[26]\tvalid_0's binary_logloss: 0.534848\tvalid_0's auc: 0.737781\n",
      "[27]\tvalid_0's binary_logloss: 0.534212\tvalid_0's auc: 0.73802\n",
      "[28]\tvalid_0's binary_logloss: 0.533554\tvalid_0's auc: 0.738485\n",
      "[29]\tvalid_0's binary_logloss: 0.532731\tvalid_0's auc: 0.73945\n",
      "[30]\tvalid_0's binary_logloss: 0.532231\tvalid_0's auc: 0.739657\n",
      "[31]\tvalid_0's binary_logloss: 0.53161\tvalid_0's auc: 0.740279\n",
      "[32]\tvalid_0's binary_logloss: 0.531035\tvalid_0's auc: 0.740884\n",
      "[33]\tvalid_0's binary_logloss: 0.53061\tvalid_0's auc: 0.741069\n",
      "[34]\tvalid_0's binary_logloss: 0.53015\tvalid_0's auc: 0.741459\n",
      "[35]\tvalid_0's binary_logloss: 0.529769\tvalid_0's auc: 0.741694\n",
      "[36]\tvalid_0's binary_logloss: 0.529202\tvalid_0's auc: 0.742286\n",
      "[37]\tvalid_0's binary_logloss: 0.528793\tvalid_0's auc: 0.742564\n",
      "[38]\tvalid_0's binary_logloss: 0.528415\tvalid_0's auc: 0.743\n",
      "[39]\tvalid_0's binary_logloss: 0.528084\tvalid_0's auc: 0.743248\n",
      "[40]\tvalid_0's binary_logloss: 0.527719\tvalid_0's auc: 0.743609\n",
      "[41]\tvalid_0's binary_logloss: 0.527301\tvalid_0's auc: 0.743967\n",
      "[42]\tvalid_0's binary_logloss: 0.527043\tvalid_0's auc: 0.744103\n",
      "[43]\tvalid_0's binary_logloss: 0.526792\tvalid_0's auc: 0.744305\n",
      "[44]\tvalid_0's binary_logloss: 0.526387\tvalid_0's auc: 0.744878\n",
      "[45]\tvalid_0's binary_logloss: 0.526122\tvalid_0's auc: 0.745102\n",
      "[46]\tvalid_0's binary_logloss: 0.525797\tvalid_0's auc: 0.745471\n",
      "[47]\tvalid_0's binary_logloss: 0.525526\tvalid_0's auc: 0.745746\n",
      "[48]\tvalid_0's binary_logloss: 0.525203\tvalid_0's auc: 0.746256\n",
      "[49]\tvalid_0's binary_logloss: 0.524981\tvalid_0's auc: 0.7465\n",
      "[50]\tvalid_0's binary_logloss: 0.524643\tvalid_0's auc: 0.747012\n",
      "[51]\tvalid_0's binary_logloss: 0.524382\tvalid_0's auc: 0.747321\n",
      "[52]\tvalid_0's binary_logloss: 0.524193\tvalid_0's auc: 0.747458\n",
      "[53]\tvalid_0's binary_logloss: 0.523978\tvalid_0's auc: 0.747678\n",
      "[54]\tvalid_0's binary_logloss: 0.52378\tvalid_0's auc: 0.747904\n",
      "[55]\tvalid_0's binary_logloss: 0.523569\tvalid_0's auc: 0.748149\n",
      "[56]\tvalid_0's binary_logloss: 0.523372\tvalid_0's auc: 0.748387\n",
      "[57]\tvalid_0's binary_logloss: 0.523176\tvalid_0's auc: 0.748585\n",
      "[58]\tvalid_0's binary_logloss: 0.52294\tvalid_0's auc: 0.74886\n",
      "[59]\tvalid_0's binary_logloss: 0.52277\tvalid_0's auc: 0.749031\n",
      "[60]\tvalid_0's binary_logloss: 0.522601\tvalid_0's auc: 0.749196\n",
      "[61]\tvalid_0's binary_logloss: 0.522423\tvalid_0's auc: 0.749394\n",
      "[62]\tvalid_0's binary_logloss: 0.522281\tvalid_0's auc: 0.749508\n",
      "[63]\tvalid_0's binary_logloss: 0.522117\tvalid_0's auc: 0.749739\n",
      "[64]\tvalid_0's binary_logloss: 0.521882\tvalid_0's auc: 0.750014\n",
      "[65]\tvalid_0's binary_logloss: 0.521713\tvalid_0's auc: 0.750231\n",
      "[66]\tvalid_0's binary_logloss: 0.521558\tvalid_0's auc: 0.750399\n",
      "[67]\tvalid_0's binary_logloss: 0.521438\tvalid_0's auc: 0.750514\n",
      "[68]\tvalid_0's binary_logloss: 0.521299\tvalid_0's auc: 0.750673\n",
      "[69]\tvalid_0's binary_logloss: 0.521161\tvalid_0's auc: 0.750837\n",
      "[70]\tvalid_0's binary_logloss: 0.521042\tvalid_0's auc: 0.750969\n",
      "[71]\tvalid_0's binary_logloss: 0.520863\tvalid_0's auc: 0.751235\n",
      "[72]\tvalid_0's binary_logloss: 0.520784\tvalid_0's auc: 0.751295\n",
      "[73]\tvalid_0's binary_logloss: 0.520669\tvalid_0's auc: 0.751407\n",
      "[74]\tvalid_0's binary_logloss: 0.520518\tvalid_0's auc: 0.751653\n",
      "[75]\tvalid_0's binary_logloss: 0.520341\tvalid_0's auc: 0.75183\n",
      "[76]\tvalid_0's binary_logloss: 0.520214\tvalid_0's auc: 0.752012\n",
      "[77]\tvalid_0's binary_logloss: 0.520137\tvalid_0's auc: 0.752084\n",
      "[78]\tvalid_0's binary_logloss: 0.520005\tvalid_0's auc: 0.752273\n",
      "[79]\tvalid_0's binary_logloss: 0.519904\tvalid_0's auc: 0.752387\n",
      "[80]\tvalid_0's binary_logloss: 0.519824\tvalid_0's auc: 0.752457\n",
      "[81]\tvalid_0's binary_logloss: 0.519698\tvalid_0's auc: 0.752631\n",
      "[82]\tvalid_0's binary_logloss: 0.51962\tvalid_0's auc: 0.752722\n",
      "[83]\tvalid_0's binary_logloss: 0.519557\tvalid_0's auc: 0.752773\n",
      "[84]\tvalid_0's binary_logloss: 0.519455\tvalid_0's auc: 0.752892\n",
      "[85]\tvalid_0's binary_logloss: 0.51935\tvalid_0's auc: 0.753051\n",
      "[86]\tvalid_0's binary_logloss: 0.519277\tvalid_0's auc: 0.753123\n",
      "[87]\tvalid_0's binary_logloss: 0.519184\tvalid_0's auc: 0.753258\n",
      "[88]\tvalid_0's binary_logloss: 0.5191\tvalid_0's auc: 0.753374\n",
      "[89]\tvalid_0's binary_logloss: 0.51904\tvalid_0's auc: 0.753415\n",
      "[90]\tvalid_0's binary_logloss: 0.518878\tvalid_0's auc: 0.753617\n",
      "[91]\tvalid_0's binary_logloss: 0.518804\tvalid_0's auc: 0.753692\n",
      "[92]\tvalid_0's binary_logloss: 0.518733\tvalid_0's auc: 0.753771\n",
      "[93]\tvalid_0's binary_logloss: 0.518626\tvalid_0's auc: 0.75391\n",
      "[94]\tvalid_0's binary_logloss: 0.518557\tvalid_0's auc: 0.753996\n",
      "[95]\tvalid_0's binary_logloss: 0.518484\tvalid_0's auc: 0.754092\n",
      "[96]\tvalid_0's binary_logloss: 0.518428\tvalid_0's auc: 0.754161\n",
      "[97]\tvalid_0's binary_logloss: 0.518365\tvalid_0's auc: 0.754232\n",
      "[98]\tvalid_0's binary_logloss: 0.518269\tvalid_0's auc: 0.754361\n",
      "[99]\tvalid_0's binary_logloss: 0.518202\tvalid_0's auc: 0.754428\n",
      "[100]\tvalid_0's binary_logloss: 0.518154\tvalid_0's auc: 0.754485\n",
      "Did not meet early stopping. Best iteration is:\n",
      "[100]\tvalid_0's binary_logloss: 0.518154\tvalid_0's auc: 0.754485\n"
     ]
    }
   ],
   "source": [
    "gender_model = MODEL(model_kind=\"gender\")\n",
    "gender_model.train(lgb_traindata_gender, lgb_valdata_gender)\n",
    "gender_model.save_model()"
   ]
  },
  {
   "cell_type": "code",
   "execution_count": 9,
   "metadata": {},
   "outputs": [],
   "source": [
    "test_record = pd.merge(test_click, test_ad, on=\"creative_id\")"
   ]
  },
  {
   "cell_type": "code",
   "execution_count": 10,
   "metadata": {},
   "outputs": [],
   "source": [
    "test_features = test_record.iloc[:, [0, 2, 3, 4, 5, 6, 7, 8]]\n",
    "test_features = test_features.values"
   ]
  },
  {
   "cell_type": "code",
   "execution_count": 11,
   "metadata": {},
   "outputs": [],
   "source": [
    "test_pred = gender_model.predict(test_features)"
   ]
  },
  {
   "cell_type": "code",
   "execution_count": 12,
   "metadata": {},
   "outputs": [
    {
     "data": {
      "text/plain": [
       "array([0.76126466, 0.76126466, 0.76126466, ..., 0.32078798, 0.34056228,\n",
       "       0.31826297])"
      ]
     },
     "execution_count": 12,
     "metadata": {},
     "output_type": "execute_result"
    }
   ],
   "source": [
    "test_pred"
   ]
  },
  {
   "cell_type": "code",
   "execution_count": null,
   "metadata": {},
   "outputs": [],
   "source": []
  }
 ],
 "metadata": {
  "kernelspec": {
   "display_name": "Python 3",
   "language": "python",
   "name": "python3"
  },
  "language_info": {
   "codemirror_mode": {
    "name": "ipython",
    "version": 3
   },
   "file_extension": ".py",
   "mimetype": "text/x-python",
   "name": "python",
   "nbconvert_exporter": "python",
   "pygments_lexer": "ipython3",
   "version": "3.7.7"
  }
 },
 "nbformat": 4,
 "nbformat_minor": 4
}
